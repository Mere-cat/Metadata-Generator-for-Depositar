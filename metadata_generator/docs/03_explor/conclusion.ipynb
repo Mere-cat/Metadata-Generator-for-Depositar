{
 "cells": [
  {
   "cell_type": "markdown",
   "metadata": {},
   "source": [
    "# Project Result\n",
    "Now, let's integrate the two aspects of our project. This integration will yield an interactive interface that enables users to input their dataset information. Consequently, they will receive the suggested Wikidata keywords along with the most fitting location that accurately characterizes the dataset.\n",
    "\n",
    ":::{tip}\n",
    "To obtain wikidata keyword and the geographic information for your dataset, follow these steps:\n",
    "1. Click on the \"rocket icon\" located in the top-right corner.\n",
    "2. Select the option labeled `Live Code` from the menu.\n",
    "3. Once the environment is launched, you'll be able to manually execute **each** code cell.\n",
    "\n",
    "For any hidden code cells, simply click on `Show code cell source` and subsequently click `run` within each respective cell section.\n",
    ":::\n",
    "\n",
    "Here're the information you may input:\n",
    "* `title`: the title of your dataset\n",
    "* `description`: description of your dataset\n",
    "* `resource_names`: file names in your dataset\n",
    "* `resource_descriptions`: the description of files in your dataset\n",
    "* `organization_title`: the tilte of the affiliatedorganization \n",
    "* `organization_description`: the description of the affiliatedorganization \n",
    "\n",
    "```{warning} Notice\n",
    "At least one of the fields should be completed. Leaving all of them empty is not permissible.\n",
    "```"
   ]
  },
  {
   "cell_type": "markdown",
   "metadata": {},
   "source": [
    "## Function Definations\n",
    "Just expend it and click `run`"
   ]
  },
  {
   "cell_type": "code",
   "execution_count": null,
   "metadata": {
    "tags": [
     "remove-output",
     "hide-input"
    ]
   },
   "outputs": [],
   "source": [
    "# Packages Import ============================================================\n",
    "import requests\n",
    "\n",
    "# NLP task model\n",
    "from ckip_transformers.nlp import CkipNerChunker\n",
    "ner_driver = CkipNerChunker(model=\"bert-base\")\n",
    "\n",
    "# Function Definstion =========================================================\n",
    "def wiki_search(search_term):\n",
    "    url = f\"https://www.wikidata.org/w/api.php?action=wbsearchentities&format=json&search={search_term}&language=zh\"\n",
    "\n",
    "    response = requests.get(url)\n",
    "    data = response.json()\n",
    "\n",
    "    # organize the response\n",
    "    if \"search\" in data:\n",
    "        for result in data[\"search\"]:\n",
    "            qid = result[\"id\"]\n",
    "            label = result[\"label\"]\n",
    "            description = result.get(\"description\", \"No description available\")\n",
    "            print(f\"QID: {qid}, Label: {label}, Description: {description}\")\n",
    "    else:\n",
    "        print(\"No results found.\")\n",
    "        \n",
    "def search_osm_place(query):\n",
    "    base_url = \"https://nominatim.openstreetmap.org/search\"\n",
    "    params = {\n",
    "        \"q\": query,\n",
    "        \"format\": \"json\",\n",
    "        \"polygon_geojson\": \"1\",  # Request GeoJSON polygons\n",
    "        \"limit\": 7\n",
    "    }\n",
    "\n",
    "    response = requests.get(base_url, params=params)\n",
    "\n",
    "    if response.status_code == 200:\n",
    "        return response.json()\n",
    "    else:\n",
    "        return None\n",
    "\n",
    "def make_keyword_map(input_list):\n",
    "    # NER task\n",
    "    ner = ner_driver(input_list)\n",
    "\n",
    "    # Build keyword_map to store potential words\n",
    "    avoid_class = ['QUANTITY', 'CARDINAL', 'DATE', 'ORDINAL']\n",
    "    keyword_map = {}\n",
    "    for sentence_ner in ner:\n",
    "        for entity in sentence_ner:\n",
    "            if(entity[1] in avoid_class):\n",
    "                continue\n",
    "        keyword_map[entity[0]] = entity[1]\n",
    "    \n",
    "    return keyword_map\n",
    "\n",
    "def gen_keyword(title, description, resource_names, resource_descriptions, organization_title, organization_description):\n",
    "    input_list = [title, description, resource_names, resource_descriptions, organization_title, organization_description]\n",
    "\n",
    "    if all(not item for item in input_list):\n",
    "        return -1\n",
    "    else:\n",
    "       keyword_map = make_keyword_map(input_list)\n",
    "       return keyword_map\n",
    "    \n",
    "def wiki_output(result):\n",
    "    if(result == -1):\n",
    "        print(\"At least one of the fields should be completed. Leaving all of them empty is not permissible.\")\n",
    "        return\n",
    "    else:\n",
    "        for item in result:\n",
    "            print(item)\n",
    "            wiki_search(item)\n",
    "            print('-------------------------------------------')\n",
    "\n",
    "def geoInfo_output(result):\n",
    "    if(result == -1):\n",
    "        print(\"At least one of the fields should be completed. Leaving all of them empty is not permissible.\")\n",
    "        return\n",
    "    else:\n",
    "        for item in result:\n",
    "            respond = search_osm_place(item)\n",
    "            if respond:\n",
    "                print(f\"OSM result for {item} is:\")\n",
    "                for place in respond:\n",
    "                    print(\"📍\", place[\"display_name\"])\n",
    "                    print(str(place[\"geojson\"]).replace(\"'\", \"\\\"\"))\n",
    "                print('-------------------------------------------')\n",
    "            else:\n",
    "                    print(\"No geoInfo provided.\")"
   ]
  },
  {
   "cell_type": "markdown",
   "metadata": {},
   "source": [
    "### Input\n",
    "✨ You can type information of your own dataset here:"
   ]
  },
  {
   "cell_type": "code",
   "execution_count": null,
   "metadata": {
    "tags": []
   },
   "outputs": [],
   "source": [
    "title = ''\n",
    "description = ''\n",
    "resource_names = []\n",
    "resource_descriptions = []\n",
    "organization_title = \"\"\n",
    "organization_description = \"\"\n",
    "\n",
    "result = gen_keyword(title, description, resource_names, resource_descriptions, organization_title, organization_description)"
   ]
  },
  {
   "cell_type": "markdown",
   "metadata": {},
   "source": [
    "## Result"
   ]
  },
  {
   "cell_type": "markdown",
   "metadata": {},
   "source": [
    "### Wikidata Keyword Recommendation:"
   ]
  },
  {
   "cell_type": "code",
   "execution_count": null,
   "metadata": {},
   "outputs": [],
   "source": [
    "wiki_output(result)"
   ]
  },
  {
   "cell_type": "markdown",
   "metadata": {},
   "source": [
    "### Geographic Information Recommendation:"
   ]
  },
  {
   "cell_type": "code",
   "execution_count": null,
   "metadata": {},
   "outputs": [],
   "source": [
    "geoInfo_output(result)"
   ]
  },
  {
   "cell_type": "markdown",
   "metadata": {},
   "source": [
    "#### Preview the Location in OSM"
   ]
  },
  {
   "cell_type": "markdown",
   "metadata": {},
   "source": [
    "Select one of the location above, copy the geoJSON and paste to the below cell:"
   ]
  },
  {
   "cell_type": "code",
   "execution_count": null,
   "metadata": {},
   "outputs": [],
   "source": [
    "geoInfo = ''"
   ]
  },
  {
   "cell_type": "code",
   "execution_count": null,
   "metadata": {
    "tags": [
     "hide-input"
    ]
   },
   "outputs": [],
   "source": [
    "import folium\n",
    "\n",
    "center_coords = [25.041415686746607, 121.61472689731077]  # Sinica\n",
    "m = folium.Map(location=center_coords, zoom_start=12)\n",
    "\n",
    "if(len(geoInfo) == 0):\n",
    "    print(\"please paste the geoJSON in the 'geoInfo' string.\")\n",
    "else:\n",
    "    geojson = eval(geoInfo)\n",
    "    folium.GeoJson(geojson).add_to(m)\n",
    "    m.fit_bounds(m.get_bounds())\n",
    "    display(m)"
   ]
  }
 ],
 "metadata": {
  "kernelspec": {
   "display_name": "2023-sinica-intern",
   "language": "python",
   "name": "python3"
  },
  "language_info": {
   "codemirror_mode": {
    "name": "ipython",
    "version": 3
   },
   "file_extension": ".py",
   "mimetype": "text/x-python",
   "name": "python",
   "nbconvert_exporter": "python",
   "pygments_lexer": "ipython3",
   "version": "3.9.17"
  },
  "orig_nbformat": 4
 },
 "nbformat": 4,
 "nbformat_minor": 2
}
