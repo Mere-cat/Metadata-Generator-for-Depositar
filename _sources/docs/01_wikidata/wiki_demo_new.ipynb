{
 "cells": [
  {
   "cell_type": "markdown",
   "id": "62a8e256",
   "metadata": {},
   "source": [
    "# Live Demo\n",
    "\n",
    "You can try this feature with your won data in this page. \n",
    "\n",
    "Fulfill the cell below and run it to see the result:\n",
    "* `title`: the title of your dataset\n",
    "* `description`: description of your dataset\n",
    "* `resource_names`: file names in your dataset\n",
    "* `resource_descriptions`: the description of files in your dataset\n",
    "* `organization_title`: the tilte of the affiliatedorganization \n",
    "* `organization_description`: the description of the affiliatedorganization \n",
    "\n",
    "```{warning} Notice\n",
    "At least one of the fields should be completed. Leaving all of them empty is not permissible.\n",
    "```"
   ]
  },
  {
   "cell_type": "code",
   "execution_count": 1,
   "id": "1be6cc55",
   "metadata": {},
   "outputs": [
    {
     "data": {
      "application/vnd.jupyter.widget-view+json": {
       "model_id": "374c68d146a3443a8632a722bfd87b8a",
       "version_major": 2,
       "version_minor": 0
      },
      "text/plain": [
       "Button(description='Click Me!', style=ButtonStyle())"
      ]
     },
     "metadata": {},
     "output_type": "display_data"
    },
    {
     "data": {
      "application/vnd.jupyter.widget-view+json": {
       "model_id": "a4173101d2d94ba988ec8df063f9bc02",
       "version_major": 2,
       "version_minor": 0
      },
      "text/plain": [
       "Output()"
      ]
     },
     "metadata": {},
     "output_type": "display_data"
    }
   ],
   "source": [
    "from IPython.display import display\n",
    "import ipywidgets as widgets\n",
    "\n",
    "button = widgets.Button(description=\"Click Me!\")\n",
    "output = widgets.Output()\n",
    "\n",
    "display(button, output)\n",
    "\n",
    "def on_button_clicked(b):\n",
    "    with output:\n",
    "        print(\"Button clicked.\")\n",
    "\n",
    "button.on_click(on_button_clicked)"
   ]
  },
  {
   "cell_type": "code",
   "execution_count": 2,
   "id": "3795e005",
   "metadata": {
    "tags": [
     "remove-output",
     "hide-input"
    ]
   },
   "outputs": [],
   "source": [
    "# Packages Import ============================================================\n",
    "import requests\n",
    "\n",
    "# NLP task model\n",
    "from ckip_transformers.nlp import CkipNerChunker\n",
    "ner_driver = CkipNerChunker(model=\"bert-base\")\n",
    "\n",
    "# Function Definstion =========================================================\n",
    "def wiki_search(search_term):\n",
    "    url = f\"https://www.wikidata.org/w/api.php?action=wbsearchentities&format=json&search={search_term}&language=zh\"\n",
    "\n",
    "    response = requests.get(url)\n",
    "    data = response.json()\n",
    "\n",
    "    # organize the response\n",
    "    if \"search\" in data:\n",
    "        for result in data[\"search\"]:\n",
    "            qid = result[\"id\"]\n",
    "            label = result[\"label\"]\n",
    "            description = result.get(\"description\", \"No description available\")\n",
    "            print(f\"QID: {qid}, Label: {label}, Description: {description}\")\n",
    "    else:\n",
    "        print(\"No results found.\")\n",
    "\n",
    "def make_keyword_map(input_list):\n",
    "    # NER task\n",
    "    ner = ner_driver(input_list)\n",
    "\n",
    "    # Build keyword_map to store potential words\n",
    "    avoid_class = ['QUANTITY', 'CARDINAL', 'DATE', 'ORDINAL']\n",
    "    keyword_map = {}\n",
    "    for sentence_ner in ner:\n",
    "        for entity in sentence_ner:\n",
    "            if(entity[1] in avoid_class):\n",
    "                continue\n",
    "        keyword_map[entity[0]] = entity[1]\n",
    "    \n",
    "    return keyword_map\n",
    "\n",
    "def gen_keyword(title, description, resource_names, resource_descriptions, organization_title, organization_description):\n",
    "    input_list = [title, description, resource_names, resource_descriptions, organization_title, organization_description]\n",
    "\n",
    "    if all(item != \"\" for item in input_list):\n",
    "        print(\"-1\")\n",
    "        return -1\n",
    "    else:\n",
    "       keyword_map = make_keyword_map(input_list)\n",
    "       return keyword_map\n",
    "\n",
    "def output(result):\n",
    "    if(result == -1):\n",
    "        print(\"At least one of the fields should be completed. Leaving all of them empty is not permissible.\")\n",
    "        return\n",
    "    else:\n",
    "        for item in result:\n",
    "            print(item)\n",
    "            wiki_search(item)\n",
    "            print('-------------------------------------------')"
   ]
  },
  {
   "cell_type": "markdown",
   "id": "552f83e4",
   "metadata": {},
   "source": [
    "### Input"
   ]
  },
  {
   "cell_type": "code",
   "execution_count": 3,
   "id": "f27abf61",
   "metadata": {
    "tags": [
     "remove-output"
    ]
   },
   "outputs": [
    {
     "name": "stderr",
     "output_type": "stream",
     "text": [
      "\r",
      "Tokenization:   0%|          | 0/6 [00:00<?, ?it/s]"
     ]
    },
    {
     "name": "stderr",
     "output_type": "stream",
     "text": [
      "\r",
      "Tokenization: 100%|██████████| 6/6 [00:00<00:00, 66400.59it/s]"
     ]
    },
    {
     "name": "stderr",
     "output_type": "stream",
     "text": [
      "\n"
     ]
    },
    {
     "ename": "ValueError",
     "evalue": "max() arg is an empty sequence",
     "output_type": "error",
     "traceback": [
      "\u001b[0;31m---------------------------------------------------------------------------\u001b[0m",
      "\u001b[0;31mValueError\u001b[0m                                Traceback (most recent call last)",
      "Cell \u001b[0;32mIn[3], line 8\u001b[0m\n\u001b[1;32m      5\u001b[0m organization_title \u001b[38;5;241m=\u001b[39m \u001b[38;5;124m\"\u001b[39m\u001b[38;5;124m\"\u001b[39m\n\u001b[1;32m      6\u001b[0m organization_description \u001b[38;5;241m=\u001b[39m \u001b[38;5;124m\"\u001b[39m\u001b[38;5;124m\"\u001b[39m\n\u001b[0;32m----> 8\u001b[0m result \u001b[38;5;241m=\u001b[39m \u001b[43mgen_keyword\u001b[49m\u001b[43m(\u001b[49m\u001b[43mtitle\u001b[49m\u001b[43m,\u001b[49m\u001b[43m \u001b[49m\u001b[43mdescription\u001b[49m\u001b[43m,\u001b[49m\u001b[43m \u001b[49m\u001b[43mresource_names\u001b[49m\u001b[43m,\u001b[49m\u001b[43m \u001b[49m\u001b[43mresource_descriptions\u001b[49m\u001b[43m,\u001b[49m\u001b[43m \u001b[49m\u001b[43morganization_title\u001b[49m\u001b[43m,\u001b[49m\u001b[43m \u001b[49m\u001b[43morganization_description\u001b[49m\u001b[43m)\u001b[49m\n",
      "Cell \u001b[0;32mIn[2], line 47\u001b[0m, in \u001b[0;36mgen_keyword\u001b[0;34m(title, description, resource_names, resource_descriptions, organization_title, organization_description)\u001b[0m\n\u001b[1;32m     45\u001b[0m     \u001b[38;5;28;01mreturn\u001b[39;00m \u001b[38;5;241m-\u001b[39m\u001b[38;5;241m1\u001b[39m\n\u001b[1;32m     46\u001b[0m \u001b[38;5;28;01melse\u001b[39;00m:\n\u001b[0;32m---> 47\u001b[0m    keyword_map \u001b[38;5;241m=\u001b[39m \u001b[43mmake_keyword_map\u001b[49m\u001b[43m(\u001b[49m\u001b[43minput_list\u001b[49m\u001b[43m)\u001b[49m\n\u001b[1;32m     48\u001b[0m    \u001b[38;5;28;01mreturn\u001b[39;00m keyword_map\n",
      "Cell \u001b[0;32mIn[2], line 27\u001b[0m, in \u001b[0;36mmake_keyword_map\u001b[0;34m(input_list)\u001b[0m\n\u001b[1;32m     25\u001b[0m \u001b[38;5;28;01mdef\u001b[39;00m \u001b[38;5;21mmake_keyword_map\u001b[39m(input_list):\n\u001b[1;32m     26\u001b[0m     \u001b[38;5;66;03m# NER task\u001b[39;00m\n\u001b[0;32m---> 27\u001b[0m     ner \u001b[38;5;241m=\u001b[39m \u001b[43mner_driver\u001b[49m\u001b[43m(\u001b[49m\u001b[43minput_list\u001b[49m\u001b[43m)\u001b[49m\n\u001b[1;32m     29\u001b[0m     \u001b[38;5;66;03m# Build keyword_map to store potential words\u001b[39;00m\n\u001b[1;32m     30\u001b[0m     avoid_class \u001b[38;5;241m=\u001b[39m [\u001b[38;5;124m'\u001b[39m\u001b[38;5;124mQUANTITY\u001b[39m\u001b[38;5;124m'\u001b[39m, \u001b[38;5;124m'\u001b[39m\u001b[38;5;124mCARDINAL\u001b[39m\u001b[38;5;124m'\u001b[39m, \u001b[38;5;124m'\u001b[39m\u001b[38;5;124mDATE\u001b[39m\u001b[38;5;124m'\u001b[39m, \u001b[38;5;124m'\u001b[39m\u001b[38;5;124mORDINAL\u001b[39m\u001b[38;5;124m'\u001b[39m]\n",
      "File \u001b[0;32m/opt/hostedtoolcache/Python/3.8.17/x64/lib/python3.8/site-packages/ckip_transformers/nlp/driver.py:283\u001b[0m, in \u001b[0;36mCkipNerChunker.__call__\u001b[0;34m(self, input_text, use_delim, **kwargs)\u001b[0m\n\u001b[1;32m    252\u001b[0m \u001b[38;5;250m\u001b[39m\u001b[38;5;124;03m\"\"\"Call the driver.\u001b[39;00m\n\u001b[1;32m    253\u001b[0m \n\u001b[1;32m    254\u001b[0m \u001b[38;5;124;03mParameters\u001b[39;00m\n\u001b[0;32m   (...)\u001b[0m\n\u001b[1;32m    276\u001b[0m \u001b[38;5;124;03m        A list of list of entities (:class:`~.util.NerToken`).\u001b[39;00m\n\u001b[1;32m    277\u001b[0m \u001b[38;5;124;03m\"\"\"\u001b[39;00m\n\u001b[1;32m    279\u001b[0m \u001b[38;5;66;03m# Call model\u001b[39;00m\n\u001b[1;32m    280\u001b[0m (\n\u001b[1;32m    281\u001b[0m     logits,\n\u001b[1;32m    282\u001b[0m     index_map,\n\u001b[0;32m--> 283\u001b[0m ) \u001b[38;5;241m=\u001b[39m \u001b[38;5;28;43msuper\u001b[39;49m\u001b[43m(\u001b[49m\u001b[43m)\u001b[49m\u001b[38;5;241;43m.\u001b[39;49m\u001b[38;5;21;43m__call__\u001b[39;49m\u001b[43m(\u001b[49m\u001b[43minput_text\u001b[49m\u001b[43m,\u001b[49m\u001b[43m \u001b[49m\u001b[43muse_delim\u001b[49m\u001b[38;5;241;43m=\u001b[39;49m\u001b[43muse_delim\u001b[49m\u001b[43m,\u001b[49m\u001b[43m \u001b[49m\u001b[38;5;241;43m*\u001b[39;49m\u001b[38;5;241;43m*\u001b[39;49m\u001b[43mkwargs\u001b[49m\u001b[43m)\u001b[49m\n\u001b[1;32m    285\u001b[0m \u001b[38;5;66;03m# Get labels\u001b[39;00m\n\u001b[1;32m    286\u001b[0m id2label \u001b[38;5;241m=\u001b[39m \u001b[38;5;28mself\u001b[39m\u001b[38;5;241m.\u001b[39mmodel\u001b[38;5;241m.\u001b[39mconfig\u001b[38;5;241m.\u001b[39mid2label\n",
      "File \u001b[0;32m/opt/hostedtoolcache/Python/3.8.17/x64/lib/python3.8/site-packages/ckip_transformers/nlp/util.py:166\u001b[0m, in \u001b[0;36mCkipTokenClassification.__call__\u001b[0;34m(self, input_text, use_delim, delim_set, batch_size, max_length, show_progress, pin_memory)\u001b[0m\n\u001b[1;32m    159\u001b[0m (input_ids, index_map,) \u001b[38;5;241m=\u001b[39m \u001b[38;5;28mself\u001b[39m\u001b[38;5;241m.\u001b[39m_flatten_input_ids(\n\u001b[1;32m    160\u001b[0m     input_ids_worded\u001b[38;5;241m=\u001b[39minput_ids_worded,\n\u001b[1;32m    161\u001b[0m     max_length\u001b[38;5;241m=\u001b[39mmax_length,\n\u001b[1;32m    162\u001b[0m     delim_index\u001b[38;5;241m=\u001b[39mdelim_index,\n\u001b[1;32m    163\u001b[0m )\n\u001b[1;32m    165\u001b[0m \u001b[38;5;66;03m# Pad and segment input IDs\u001b[39;00m\n\u001b[0;32m--> 166\u001b[0m (input_ids, attention_mask,) \u001b[38;5;241m=\u001b[39m \u001b[38;5;28;43mself\u001b[39;49m\u001b[38;5;241;43m.\u001b[39;49m\u001b[43m_pad_input_ids\u001b[49m\u001b[43m(\u001b[49m\n\u001b[1;32m    167\u001b[0m \u001b[43m    \u001b[49m\u001b[43minput_ids\u001b[49m\u001b[38;5;241;43m=\u001b[39;49m\u001b[43minput_ids\u001b[49m\u001b[43m,\u001b[49m\n\u001b[1;32m    168\u001b[0m \u001b[43m\u001b[49m\u001b[43m)\u001b[49m\n\u001b[1;32m    170\u001b[0m \u001b[38;5;66;03m# Convert input format\u001b[39;00m\n\u001b[1;32m    171\u001b[0m encoded_input \u001b[38;5;241m=\u001b[39m BatchEncoding(\n\u001b[1;32m    172\u001b[0m     data\u001b[38;5;241m=\u001b[39m\u001b[38;5;28mdict\u001b[39m(\n\u001b[1;32m    173\u001b[0m         input_ids\u001b[38;5;241m=\u001b[39minput_ids,\n\u001b[0;32m   (...)\u001b[0m\n\u001b[1;32m    176\u001b[0m     tensor_type\u001b[38;5;241m=\u001b[39m\u001b[38;5;124m\"\u001b[39m\u001b[38;5;124mpt\u001b[39m\u001b[38;5;124m\"\u001b[39m,\n\u001b[1;32m    177\u001b[0m )\n",
      "File \u001b[0;32m/opt/hostedtoolcache/Python/3.8.17/x64/lib/python3.8/site-packages/ckip_transformers/nlp/util.py:276\u001b[0m, in \u001b[0;36mCkipTokenClassification._pad_input_ids\u001b[0;34m(self, input_ids)\u001b[0m\n\u001b[1;32m    271\u001b[0m \u001b[38;5;28;01mdef\u001b[39;00m \u001b[38;5;21m_pad_input_ids\u001b[39m(\n\u001b[1;32m    272\u001b[0m     \u001b[38;5;28mself\u001b[39m,\n\u001b[1;32m    273\u001b[0m     \u001b[38;5;241m*\u001b[39m,\n\u001b[1;32m    274\u001b[0m     input_ids,\n\u001b[1;32m    275\u001b[0m ):\n\u001b[0;32m--> 276\u001b[0m     max_length \u001b[38;5;241m=\u001b[39m \u001b[38;5;28;43mmax\u001b[39;49m\u001b[43m(\u001b[49m\u001b[38;5;28;43mmap\u001b[39;49m\u001b[43m(\u001b[49m\u001b[38;5;28;43mlen\u001b[39;49m\u001b[43m,\u001b[49m\u001b[43m \u001b[49m\u001b[43minput_ids\u001b[49m\u001b[43m)\u001b[49m\u001b[43m)\u001b[49m\n\u001b[1;32m    278\u001b[0m     padded_input_ids \u001b[38;5;241m=\u001b[39m []\n\u001b[1;32m    279\u001b[0m     attention_mask \u001b[38;5;241m=\u001b[39m []\n",
      "\u001b[0;31mValueError\u001b[0m: max() arg is an empty sequence"
     ]
    }
   ],
   "source": [
    "title = ''\n",
    "description = ''\n",
    "resource_names = []\n",
    "resource_descriptions = []\n",
    "organization_title = \"\"\n",
    "organization_description = \"\"\n",
    "\n",
    "result = gen_keyword(title, description, resource_names, resource_descriptions, organization_title, organization_description)"
   ]
  },
  {
   "cell_type": "markdown",
   "id": "f5ca00c0",
   "metadata": {},
   "source": [
    "### Output"
   ]
  },
  {
   "cell_type": "code",
   "execution_count": null,
   "id": "5bfd3320",
   "metadata": {},
   "outputs": [],
   "source": [
    "output(result)"
   ]
  }
 ],
 "metadata": {
  "jupytext": {
   "text_representation": {
    "extension": ".md",
    "format_name": "myst",
    "format_version": 0.13,
    "jupytext_version": "1.15.1"
   }
  },
  "kernelspec": {
   "display_name": "2023-sinica-intern",
   "language": "python",
   "name": "python3"
  },
  "language_info": {
   "codemirror_mode": {
    "name": "ipython",
    "version": 3
   },
   "file_extension": ".py",
   "mimetype": "text/x-python",
   "name": "python",
   "nbconvert_exporter": "python",
   "pygments_lexer": "ipython3",
   "version": "3.8.17"
  },
  "source_map": [
   12,
   30,
   46,
   107,
   111,
   122,
   126
  ]
 },
 "nbformat": 4,
 "nbformat_minor": 5
}