{
 "cells": [
  {
   "cell_type": "markdown",
   "id": "bb2467d6",
   "metadata": {},
   "source": [
    "# Recommend Keywords\n",
    "In order to auto recommend wikidata keywords to users, here're two things we need to achieve. \n",
    "\n",
    "First, we'll tokenization the input string and find out which ones can be the keyword for the sentence. We'll introduce a NLP tool develop by the ckiplab of Academic Sinica called ckip-tagger. Within its help, we can do NER to the input stence and hence obtain keywords which are potentially be wikidata keywords.\n",
    "\n",
    "Second, after getting a list of potential words, we'll check if they are wikidata keyword. Here we send request through the wikidata API, to search if the keyword is recorded in wikidata.\n",
    "\n",
    "Finishing the two step works, we'll finally obtain a list of keywords in the input string, and also are wikidata keywords. That result is what we recommend to the users."
   ]
  },
  {
   "cell_type": "markdown",
   "id": "0005c83f",
   "metadata": {},
   "source": [
    "## Load Data\n",
    "Before we start trying this feature, we'll load the input data from Depositar.\n",
    "\n",
    "Previously, we downloaded metadata of datasets from Depositar through its API, randomly selected 10 datasets, and stored them in a file named `example_depositar_data.json` in the `04_data/` directory. Since we'll only use this as an example input, there's no need to update this file, and the code for calling the API is not included in this notebook."
   ]
  },
  {
   "cell_type": "markdown",
   "id": "b0479a8d",
   "metadata": {},
   "source": [
    "### Obtain metadata from datasets"
   ]
  },
  {
   "cell_type": "code",
   "execution_count": 1,
   "id": "44f9c8d6",
   "metadata": {
    "tags": [
     "hide-input",
     "hide-output"
    ]
   },
   "outputs": [],
   "source": [
    "import json\n",
    "import pandas as pd\n",
    "# function definition\n",
    "def get_metadata(data, data_index):\n",
    "    with open(data, 'r', encoding='utf-8') as file:\n",
    "        data = json.load(file)\n",
    "\n",
    "        title = data[data_index]['title']\n",
    "        notes = data[data_index]['notes']\n",
    "\n",
    "        resources_names = []\n",
    "        resources_desps = []\n",
    "        for item in data[data_index]['resources']:\n",
    "            if 'name' in item:\n",
    "                resources_names.append(item['name'])\n",
    "                resources_desps.append(item['description'])\n",
    "\n",
    "        organization_title = data[data_index]['organization']['title']\n",
    "        organization_desp = data[data_index]['organization']['description']\n",
    "\n",
    "    df = pd.DataFrame({\n",
    "        'Title': [title],\n",
    "        'Notes': [notes],\n",
    "        'Resource Names': [resources_names],\n",
    "        'Resource Descriptions': [resources_desps],\n",
    "        'Organization Title': [organization_title],\n",
    "        'Organization Description': [organization_desp]\n",
    "    })\n",
    "\n",
    "    return df"
   ]
  },
  {
   "cell_type": "markdown",
   "id": "415dd0dd",
   "metadata": {},
   "source": [
    "We can chose one datasets by its index:(from 0 to 9)"
   ]
  },
  {
   "cell_type": "code",
   "execution_count": 2,
   "id": "26d603de",
   "metadata": {},
   "outputs": [],
   "source": [
    "dataset_idx = 9"
   ]
  },
  {
   "cell_type": "markdown",
   "id": "2ffa9b90",
   "metadata": {},
   "source": [
    "### Output"
   ]
  },
  {
   "cell_type": "code",
   "execution_count": 3,
   "id": "22ac5390",
   "metadata": {
    "tags": [
     "hide-input"
    ]
   },
   "outputs": [
    {
     "name": "stdout",
     "output_type": "stream",
     "text": [
      "Title : 第二批次<提案七> 高雄市旗津區中洲漁港水環境改善計畫-中洲漁港老舊碼頭、疏浚及景觀營造\n",
      "Notes : 本計畫工程完工後，改善中洲漁港老舊碼頭，維持漁港既有功能外，提供漁民停泊之安全。並清理港區水域淤泥及廢棄物，提供足夠水深。部分設施老舊問題著手進行改善及周邊整體景觀改造，讓整體港區呈現全新的風貌，更提升港區環境品質。\r\n",
      "計畫內容包含:\r\n",
      "(1) 碼頭工程210公尺(B區102公尺+C區108公尺)\r\n",
      "(2) 遮休憩設施(約263m)及欄杆(約67m)\r\n",
      "(3) 意象設施佈告欄3座\r\n",
      "(4) 環境綠美化(約330m)\n",
      "Resource Names : ['「全國水環境改善計畫」【高雄市旗津區中洲漁港水環境改善計畫】 整體計畫工作計畫書', '高雄市旗津區中洲漁港水環境改善計畫簡報', '資訊公開查核表_中洲漁港老舊碼頭疏浚及景觀營造', '1080628施工前說明會議紀錄', '工程介紹及說明_老舊碼頭疏浚及景觀營造', '生態檢核自評表_中洲漁港老舊碼頭疏浚及景觀營造', '全民督工專線和專人聯繫窗口', '生態檢核專章報告']\n",
      "Resource Descriptions : ['中華民國一 O 六年十月', '提案機關：高雄市政府', '施工階段', '1080708-高市海洋工字第10831803800號', '簡報單位:誠蓄工程顧問(股)有限公司', '計畫提報/調查設計/施工階段', '工程告示牌', '中華民國 109 年 12 月 ']\n",
      "Organization Title : 「全國水環境改善計畫」高雄市政府生態檢核暨相關工作計畫\n",
      "Organization Description : 經濟部研擬「全國水環境改善計畫」，透過跨部會協調整合，積極推動治水、淨水、親水一體，推動結合生態保育、水質改善及周邊地景之水環境改善，以加速改善全國水環境，期能恢復河川生命力及親水永續水環境。\n"
     ]
    }
   ],
   "source": [
    "if(dataset_idx < 100 and dataset_idx > 1):\n",
    "    df = get_metadata('../04_data/example_depositar_data.json', dataset_idx)\n",
    "    input_list = []\n",
    "    #data_string = df.to_string(index=False, header=False)\n",
    "    for entity in df:\n",
    "        print(entity, ':', df[entity][0])\n",
    "        input_list.append(df[entity][0])\n",
    "else:\n",
    "    print('input number in the interval from 0 to 99')"
   ]
  },
  {
   "cell_type": "markdown",
   "id": "41723744",
   "metadata": {},
   "source": [
    "## Step 1: NER task"
   ]
  },
  {
   "cell_type": "markdown",
   "id": "8c4efe71",
   "metadata": {},
   "source": [
    "### Import Models\n",
    "Here we import the transformer models, and do the NER to our input data."
   ]
  },
  {
   "cell_type": "code",
   "execution_count": 4,
   "id": "1c55aa9f",
   "metadata": {
    "tags": [
     "hide-input",
     "remove-output"
    ]
   },
   "outputs": [
    {
     "name": "stderr",
     "output_type": "stream",
     "text": [
      "/opt/hostedtoolcache/Python/3.8.17/x64/lib/python3.8/site-packages/tqdm/auto.py:21: TqdmWarning: IProgress not found. Please update jupyter and ipywidgets. See https://ipywidgets.readthedocs.io/en/stable/user_install.html\n",
      "  from .autonotebook import tqdm as notebook_tqdm\n"
     ]
    }
   ],
   "source": [
    "# Import model\n",
    "from transformers import (\n",
    "   BertTokenizerFast,\n",
    "   AutoModelForMaskedLM,\n",
    "   AutoModelForCausalLM,\n",
    "   AutoModelForTokenClassification,\n",
    ")\n",
    "tokenizer = BertTokenizerFast.from_pretrained('bert-base-chinese')\n",
    "model = AutoModelForTokenClassification.from_pretrained('ckiplab/bert-tiny-chinese-ner')\n",
    "\n",
    "# NLP task model\n",
    "from ckip_transformers.nlp import CkipWordSegmenter, CkipPosTagger, CkipNerChunker\n",
    "ws_driver  = CkipWordSegmenter(model=\"bert-base\")\n",
    "pos_driver = CkipPosTagger(model=\"bert-base\")\n",
    "ner_driver = CkipNerChunker(model=\"bert-base\")"
   ]
  },
  {
   "cell_type": "markdown",
   "id": "40f5f841",
   "metadata": {},
   "source": [
    "### NER task"
   ]
  },
  {
   "cell_type": "code",
   "execution_count": 5,
   "id": "10a761ba",
   "metadata": {
    "tags": [
     "hide-input",
     "remove-output"
    ]
   },
   "outputs": [
    {
     "name": "stderr",
     "output_type": "stream",
     "text": [
      "\r",
      "Tokenization:   0%|          | 0/6 [00:00<?, ?it/s]"
     ]
    },
    {
     "name": "stderr",
     "output_type": "stream",
     "text": [
      "\r",
      "Tokenization: 100%|██████████| 6/6 [00:00<00:00, 4968.57it/s]"
     ]
    },
    {
     "name": "stderr",
     "output_type": "stream",
     "text": [
      "\n"
     ]
    },
    {
     "name": "stderr",
     "output_type": "stream",
     "text": [
      "\r",
      "Inference:   0%|          | 0/1 [00:00<?, ?it/s]"
     ]
    },
    {
     "name": "stderr",
     "output_type": "stream",
     "text": [
      "\r",
      "Inference: 100%|██████████| 1/1 [00:00<00:00,  1.02it/s]"
     ]
    },
    {
     "name": "stderr",
     "output_type": "stream",
     "text": [
      "\r",
      "Inference: 100%|██████████| 1/1 [00:00<00:00,  1.02it/s]"
     ]
    },
    {
     "name": "stderr",
     "output_type": "stream",
     "text": [
      "\n"
     ]
    }
   ],
   "source": [
    "# NER task\n",
    "ner = ner_driver(input_list)"
   ]
  },
  {
   "cell_type": "markdown",
   "id": "318fce9d",
   "metadata": {},
   "source": [
    "### Output\n",
    "Below is the output list of the NER result:"
   ]
  },
  {
   "cell_type": "code",
   "execution_count": 6,
   "id": "54fc2e5e",
   "metadata": {
    "tags": [
     "hide-input"
    ]
   },
   "outputs": [
    {
     "name": "stdout",
     "output_type": "stream",
     "text": [
      "高雄市 : GPE\n",
      "旗津區 : GPE\n",
      "中洲 : GPE\n",
      "高雄市政府 : ORG\n",
      "經濟部 : ORG\n"
     ]
    }
   ],
   "source": [
    "# Show results\n",
    "avoid_class = ['QUANTITY', 'CARDINAL', 'DATE', 'ORDINAL']\n",
    "keyword_map = {}\n",
    "for sentence_ner in ner:\n",
    "   for entity in sentence_ner:\n",
    "      if(entity[1] in avoid_class):\n",
    "        continue\n",
    "      keyword_map[entity[0]] = entity[1]\n",
    "\n",
    "for key, value in keyword_map.items():\n",
    "  print(key, ':', value)"
   ]
  },
  {
   "cell_type": "markdown",
   "id": "bf195afb",
   "metadata": {},
   "source": [
    "## Step 2: Searching through Wikidata API\n",
    "After searching each potential word obtained in previous step, now we are going to check if each word is a wikidata keyword."
   ]
  },
  {
   "cell_type": "markdown",
   "id": "08fbbcf1",
   "metadata": {},
   "source": [
    "### Request Wikidata API"
   ]
  },
  {
   "cell_type": "code",
   "execution_count": 7,
   "id": "89fd67a5",
   "metadata": {
    "tags": [
     "hide-input"
    ]
   },
   "outputs": [],
   "source": [
    "import requests\n",
    "\n",
    "def wiki_search(search_term):\n",
    "    url = f\"https://www.wikidata.org/w/api.php?action=wbsearchentities&format=json&search={search_term}&language=zh\"\n",
    "\n",
    "    response = requests.get(url)\n",
    "    data = response.json()\n",
    "\n",
    "    # organize the response\n",
    "    if \"search\" in data:\n",
    "        for result in data[\"search\"]:\n",
    "            qid = result[\"id\"]\n",
    "            label = result[\"label\"]\n",
    "            description = result.get(\"description\", \"No description available\")\n",
    "            print(f\"QID: {qid}, Label: {label}, Description: {description}\")\n",
    "    else:\n",
    "        print(\"No results found.\")"
   ]
  },
  {
   "cell_type": "markdown",
   "id": "8fcf837c",
   "metadata": {},
   "source": [
    "### Output"
   ]
  },
  {
   "cell_type": "markdown",
   "id": "cd604b04",
   "metadata": {},
   "source": [
    "Here is the output of searching result:"
   ]
  },
  {
   "cell_type": "code",
   "execution_count": 8,
   "id": "49efa75f",
   "metadata": {
    "tags": [
     "hide-input"
    ]
   },
   "outputs": [
    {
     "name": "stdout",
     "output_type": "stream",
     "text": [
      "高雄市\n"
     ]
    },
    {
     "name": "stdout",
     "output_type": "stream",
     "text": [
      "QID: Q181557, Label: Kaohsiung, Description: special municipality of Taiwan\n",
      "QID: Q15910959, Label: Kaohsiung City, Description: 1945-1979 provincial city in Taiwan\n",
      "QID: Q13178092, Label: Kaohsiung City, Description: 1979-2010 special municipality in Taiwan\n",
      "QID: Q15915730, Label: Takao City, Description: city of Taiwan under Japanese rule\n",
      "QID: Q3846600, Label: Kaohsiung Museum of Fine Arts, Description: art museum in Kaohsiung, Taiwan\n",
      "QID: Q713142, Label: Sanmin District, Description: district of Kaohsiung, Taiwan\n",
      "QID: Q718014, Label: Zuoying District, Description: district of Kaohsiung City, Taiwan\n",
      "-------------------------------------------\n",
      "旗津區\n"
     ]
    },
    {
     "name": "stdout",
     "output_type": "stream",
     "text": [
      "QID: Q706704, Label: Cijin District, Description: district of Kaohsiung City, Taiwan\n",
      "-------------------------------------------\n",
      "中洲\n"
     ]
    },
    {
     "name": "stdout",
     "output_type": "stream",
     "text": [
      "QID: Q6960335, Label: Nakasu, Description: red-light district in Fukuoka, Japan\n",
      "QID: Q16075758, Label: Chen Zisheng, Description: Qing dynasty person CBDB = 81558\n",
      "QID: Q49130357, Label: Nakasu, Description: Japanese family name (中洲, なかす)\n",
      "QID: Q10875799, Label: Zhongzhou, Description: township in Yueyang, Hunan, China\n",
      "QID: Q1039189, Label: Nakasu-Kawabata Station, Description: metro station in Fukuoka, Fukuoka prefecture, Japan\n",
      "QID: Q10875809, Label: 中洲镇 (淳安县), Description: No description available\n",
      "QID: Q10875808, Label: Zhongzhou, Description: town in Huaiji, Zhaoqing, Guangdong, China\n",
      "-------------------------------------------\n",
      "高雄市政府\n"
     ]
    },
    {
     "name": "stdout",
     "output_type": "stream",
     "text": [
      "QID: Q6366077, Label: Kaohsiung City Government, Description: The local government of Kaohsiung\n",
      "QID: Q113580970, Label: 高雄市政府, Description: No description available\n",
      "QID: Q72325842, Label: Public Works Bureau,Kaohsiung City Government, Description: No description available\n",
      "QID: Q60995902, Label: Environmental Protection Bureau, Kaohsiung City Government, Description: government agency of Kaohsiung, Taiwan\n",
      "QID: Q15918055, Label: Bureau of Cultural Affairs of Kaohsiung, Description: No description available\n",
      "QID: Q11673241, Label: Mass Rapid Transit Bureau, Kaohsiung City Government, Description: No description available\n",
      "QID: Q15900495, Label: Kaohsiung City Police, Description: No description available\n",
      "-------------------------------------------\n",
      "經濟部\n"
     ]
    },
    {
     "name": "stdout",
     "output_type": "stream",
     "text": [
      "QID: Q697113, Label: Ministry of Economic Affairs, Description: registration authority\n",
      "QID: Q81886673, Label: Ministry of Economic Affairs and Digital Transformation, Description: No description available\n",
      "QID: Q3958441, Label: economic sector, Description: conceptual grouping of economic activities\n",
      "QID: Q31046, Label: Water Resources Agency, MOEA, Description: government agency in Taiwan\n",
      "QID: Q6865835, Label: Sweden's Minister for Finance, Description: Swedish cabinet minister\n",
      "QID: Q109797916, Label: 經濟部水利署第二河川局, Description: No description available\n",
      "QID: Q109798375, Label: 經濟部水利署第七河川局, Description: No description available\n",
      "-------------------------------------------\n"
     ]
    }
   ],
   "source": [
    "for item in keyword_map:\n",
    "    print(item)\n",
    "    wiki_search(item)\n",
    "    print('-------------------------------------------')"
   ]
  }
 ],
 "metadata": {
  "jupytext": {
   "text_representation": {
    "extension": ".md",
    "format_name": "myst",
    "format_version": 0.13,
    "jupytext_version": "1.15.1"
   }
  },
  "kernelspec": {
   "display_name": "2023-sinica-intern",
   "language": "python",
   "name": "python3"
  },
  "language_info": {
   "codemirror_mode": {
    "name": "ipython",
    "version": 3
   },
   "file_extension": ".py",
   "mimetype": "text/x-python",
   "name": "python",
   "nbconvert_exporter": "python",
   "pygments_lexer": "ipython3",
   "version": "3.8.17"
  },
  "source_map": [
   12,
   23,
   30,
   34,
   67,
   71,
   73,
   77,
   89,
   93,
   98,
   116,
   120,
   125,
   130,
   144,
   149,
   153,
   173,
   177,
   181
  ]
 },
 "nbformat": 4,
 "nbformat_minor": 5
}