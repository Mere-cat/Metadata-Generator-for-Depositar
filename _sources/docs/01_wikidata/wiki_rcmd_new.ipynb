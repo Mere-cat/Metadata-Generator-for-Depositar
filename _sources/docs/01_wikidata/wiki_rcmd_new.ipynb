{
 "cells": [
  {
   "cell_type": "markdown",
   "id": "05f79c12",
   "metadata": {},
   "source": [
    "# Recommend Keywords\n",
    "In order to auto recommend wikidata keywords to users, here're two things we need to achieve. \n",
    "\n",
    "First, we'll tokenization the input string and find out which ones can be the keyword for the sentence. We'll introduce a NLP tool develop by the ckiplab of Academic Sinica called ckip-tagger. Within its help, we can do NER to the input stence and hence obtain keywords which are potentially be wikidata keywords.\n",
    "\n",
    "Second, after getting a list of potential words, we'll check if they are wikidata keyword. Here we send request through the wikidata API, to search if the keyword is recorded in wikidata.\n",
    "\n",
    "Finishing the two step works, we'll finally obtain a list of keywords in the input string, and also are wikidata keywords. That result is what we recommend to the users.\n",
    "\n",
    ":::{tip}\n",
    "You can choose a particular dataset by its index and explore the geographic information recommendations provided. To proceed, follow these steps:\n",
    "1. Click on the \"rocket icon\" located in the top-right corner.\n",
    "2. Select the option labeled `Live Code` from the menu.\n",
    "3. Once the environment is launched, you'll be able to manually execute **each** code cell.\n",
    "\n",
    "For any hidden code cells, simply click on `Show code cell source` and subsequently click `run` within each respective cell section.\n",
    ":::"
   ]
  },
  {
   "cell_type": "markdown",
   "id": "c272f0cf",
   "metadata": {},
   "source": [
    "## Load Data\n",
    "Before we start trying this feature, we'll load the input data from Depositar.\n",
    "\n",
    "Previously, we downloaded metadata of datasets from Depositar through its API, randomly selected 10 datasets, and stored them in a file named `example_depositar_data.json` in the `assets/` directory. Since we'll only use this as an example input, there's no need to update this file, and the code for calling the API is not included in this notebook."
   ]
  },
  {
   "cell_type": "markdown",
   "id": "f775d44d",
   "metadata": {},
   "source": [
    "### Obtain metadata from datasets"
   ]
  },
  {
   "cell_type": "code",
   "execution_count": 1,
   "id": "2732df04",
   "metadata": {
    "tags": [
     "hide-input",
     "hide-output"
    ]
   },
   "outputs": [],
   "source": [
    "import json\n",
    "import pandas as pd\n",
    "import warnings\n",
    "\n",
    "# function definition\n",
    "def get_metadata(data_path, data_index):\n",
    "    with warnings.catch_warnings():\n",
    "        warnings.simplefilter(action='ignore', category=FutureWarning)\n",
    "        data = pd.read_json(data_path)\n",
    "\n",
    "        title = data.loc[data_index, 'title']\n",
    "        notes = data.loc[data_index, 'notes']\n",
    "\n",
    "        resources_names = []\n",
    "        resources_desps = []\n",
    "        for item in data.loc[data_index, 'resources']:\n",
    "            if 'name' in item:\n",
    "                resources_names.append(item['name'])\n",
    "                resources_desps.append(item['description'])\n",
    "\n",
    "        organization_title = data.loc[data_index, 'organization']['title']\n",
    "        organization_desp = data.loc[data_index, 'organization']['description']\n",
    "\n",
    "        df = pd.DataFrame({\n",
    "            'Title': [title],\n",
    "            'Notes': [notes],\n",
    "            'Resource Names': [resources_names],\n",
    "            'Resource Descriptions': [resources_desps],\n",
    "            'Organization Title': [organization_title],\n",
    "            'Organization Description': [organization_desp]\n",
    "        })\n",
    "\n",
    "        return df"
   ]
  },
  {
   "cell_type": "markdown",
   "id": "2ed8a6ce",
   "metadata": {},
   "source": [
    "We can chose one datasets by its index:"
   ]
  },
  {
   "cell_type": "code",
   "execution_count": 2,
   "id": "11788cbf",
   "metadata": {},
   "outputs": [],
   "source": [
    "dataset_idx = 6"
   ]
  },
  {
   "cell_type": "markdown",
   "id": "35fcd6a6",
   "metadata": {},
   "source": [
    "✨ You can change the index to see the result of different dataset. (from 0 to 99)"
   ]
  },
  {
   "cell_type": "markdown",
   "id": "e0dc6cba",
   "metadata": {},
   "source": [
    "### Show dataset content\n",
    "Below displays the information of our selected dataset:"
   ]
  },
  {
   "cell_type": "code",
   "execution_count": 3,
   "id": "a8d60cdf",
   "metadata": {
    "tags": [
     "hide-input"
    ]
   },
   "outputs": [
    {
     "name": "stdout",
     "output_type": "stream",
     "text": [
      "Title : 林邊排水水質自然淨化工程-林邊排水水質自然淨化處理場域規劃設計\n",
      "Notes : \n",
      "Resource Names : ['']\n",
      "Resource Descriptions : ['']\n",
      "Organization Title : 「全國水環境改善計畫」108-109年度屏東縣政府水環境改善輔導顧問團\n",
      "Organization Description : \n"
     ]
    }
   ],
   "source": [
    "if(dataset_idx < 100 and dataset_idx > 1):\n",
    "    data_path = 'https://mere-cat.github.io/Metadata-Generator-for-Depositar/assets/example_depositar_data.json'\n",
    "    df = get_metadata(data_path, dataset_idx)\n",
    "    input_list = []\n",
    "    for entity in df:\n",
    "        print(entity, ':', df[entity][0])\n",
    "        input_list.append(df[entity][0])\n",
    "else:\n",
    "    print('input number in the interval from 0 to 99')"
   ]
  },
  {
   "cell_type": "markdown",
   "id": "6c67179b",
   "metadata": {},
   "source": [
    "## Step 1: NER task"
   ]
  },
  {
   "cell_type": "markdown",
   "id": "588373ea",
   "metadata": {},
   "source": [
    "### Import Models\n",
    "Here we import the transformer models, and do the NER to our input data."
   ]
  },
  {
   "cell_type": "code",
   "execution_count": 4,
   "id": "0827ad3c",
   "metadata": {
    "tags": [
     "hide-input",
     "remove-output"
    ]
   },
   "outputs": [
    {
     "name": "stderr",
     "output_type": "stream",
     "text": [
      "/opt/hostedtoolcache/Python/3.8.17/x64/lib/python3.8/site-packages/tqdm/auto.py:21: TqdmWarning: IProgress not found. Please update jupyter and ipywidgets. See https://ipywidgets.readthedocs.io/en/stable/user_install.html\n",
      "  from .autonotebook import tqdm as notebook_tqdm\n"
     ]
    }
   ],
   "source": [
    "# NLP task model\n",
    "from ckip_transformers.nlp import CkipNerChunker\n",
    "ner_driver = CkipNerChunker(model=\"bert-base\")"
   ]
  },
  {
   "cell_type": "markdown",
   "id": "65f26232",
   "metadata": {},
   "source": [
    "### NER task"
   ]
  },
  {
   "cell_type": "code",
   "execution_count": 5,
   "id": "31c52288",
   "metadata": {
    "tags": [
     "hide-input",
     "remove-output"
    ]
   },
   "outputs": [
    {
     "name": "stderr",
     "output_type": "stream",
     "text": [
      "\r",
      "Tokenization:   0%|          | 0/6 [00:00<?, ?it/s]"
     ]
    },
    {
     "name": "stderr",
     "output_type": "stream",
     "text": [
      "\r",
      "Tokenization: 100%|██████████| 6/6 [00:00<00:00, 23899.17it/s]"
     ]
    },
    {
     "name": "stderr",
     "output_type": "stream",
     "text": [
      "\n"
     ]
    },
    {
     "name": "stderr",
     "output_type": "stream",
     "text": [
      "\r",
      "Inference:   0%|          | 0/1 [00:00<?, ?it/s]"
     ]
    },
    {
     "name": "stderr",
     "output_type": "stream",
     "text": [
      "\r",
      "Inference: 100%|██████████| 1/1 [00:00<00:00,  6.00it/s]"
     ]
    },
    {
     "name": "stderr",
     "output_type": "stream",
     "text": [
      "\r",
      "Inference: 100%|██████████| 1/1 [00:00<00:00,  5.94it/s]"
     ]
    },
    {
     "name": "stderr",
     "output_type": "stream",
     "text": [
      "\n"
     ]
    }
   ],
   "source": [
    "# NER task\n",
    "ner = ner_driver(input_list)"
   ]
  },
  {
   "cell_type": "markdown",
   "id": "b59d7fef",
   "metadata": {},
   "source": [
    "### Output\n",
    "Below is the output list of the NER result:"
   ]
  },
  {
   "cell_type": "code",
   "execution_count": 6,
   "id": "e21591bb",
   "metadata": {
    "tags": [
     "hide-input"
    ]
   },
   "outputs": [
    {
     "name": "stdout",
     "output_type": "stream",
     "text": [
      "林邊 : GPE\n",
      "屏東縣政府 : ORG\n"
     ]
    }
   ],
   "source": [
    "# Show results\n",
    "avoid_class = ['QUANTITY', 'CARDINAL', 'DATE', 'ORDINAL']\n",
    "keyword_map = {}\n",
    "for sentence_ner in ner:\n",
    "   for entity in sentence_ner:\n",
    "      if(entity[1] in avoid_class):\n",
    "        continue\n",
    "      keyword_map[entity[0]] = entity[1]\n",
    "\n",
    "for key, value in keyword_map.items():\n",
    "  print(key, ':', value)"
   ]
  },
  {
   "cell_type": "markdown",
   "id": "584cfb19",
   "metadata": {},
   "source": [
    "## Step 2: Searching through Wikidata API\n",
    "After searching each potential word obtained in previous step, now we are going to check if each word is a wikidata keyword."
   ]
  },
  {
   "cell_type": "markdown",
   "id": "01cf659d",
   "metadata": {},
   "source": [
    "### Request Wikidata API"
   ]
  },
  {
   "cell_type": "code",
   "execution_count": 7,
   "id": "61c65199",
   "metadata": {
    "tags": [
     "hide-input"
    ]
   },
   "outputs": [],
   "source": [
    "import requests\n",
    "\n",
    "def wiki_search(search_term):\n",
    "    url = f\"https://www.wikidata.org/w/api.php?action=wbsearchentities&format=json&search={search_term}&language=zh\"\n",
    "\n",
    "    response = requests.get(url)\n",
    "    data = response.json()\n",
    "\n",
    "    # organize the response\n",
    "    if \"search\" in data:\n",
    "        for result in data[\"search\"]:\n",
    "            qid = result[\"id\"]\n",
    "            label = result[\"label\"]\n",
    "            description = result.get(\"description\", \"No description available\")\n",
    "            print(f\"QID: {qid}, Label: {label}, Description: {description}\")\n",
    "    else:\n",
    "        print(\"No results found.\")"
   ]
  },
  {
   "cell_type": "markdown",
   "id": "14d58f07",
   "metadata": {},
   "source": [
    "### Output"
   ]
  },
  {
   "cell_type": "markdown",
   "id": "a52d12df",
   "metadata": {},
   "source": [
    "Here is the output of searching result:"
   ]
  },
  {
   "cell_type": "code",
   "execution_count": 8,
   "id": "a3d1b37e",
   "metadata": {
    "tags": [
     "hide-input"
    ]
   },
   "outputs": [
    {
     "name": "stdout",
     "output_type": "stream",
     "text": [
      "林邊\n"
     ]
    },
    {
     "name": "stdout",
     "output_type": "stream",
     "text": [
      "QID: Q708239, Label: Linbian, Description: rural township of Taiwan\n",
      "QID: Q7564094, Label: Woodside, Description: neighborhood in Queens, New York City, United States\n",
      "QID: Q6550302, Label: Linbian River, Description: river in Taiwan\n",
      "QID: Q1033565, Label: Linbian Station, Description: railway station\n",
      "QID: Q17026596, Label: Linbian Interchange, Description: No description available\n",
      "QID: Q11107072, Label: Woodside, Description: Residential building in Hong Kong\n",
      "QID: Q97025818, Label: Linbian Village, Description: Village in Linbian, Pingtung County, Taiwan\n",
      "-------------------------------------------\n",
      "屏東縣政府\n"
     ]
    },
    {
     "name": "stdout",
     "output_type": "stream",
     "text": [
      "QID: Q11042707, Label: Pingtung County Government, Description: executive branch of Pingtung County, Taiwan\n",
      "QID: Q107359613, Label: Department of Public Works, Pingtung County Government, Description: No description available\n",
      "QID: Q115624611, Label: 屏東縣政府消防局, Description: No description available\n",
      "QID: Q115619758, Label: 屏東縣政府警察局, Description: No description available\n",
      "-------------------------------------------\n"
     ]
    }
   ],
   "source": [
    "for item in keyword_map:\n",
    "    print(item)\n",
    "    wiki_search(item)\n",
    "    print('-------------------------------------------')"
   ]
  }
 ],
 "metadata": {
  "jupytext": {
   "text_representation": {
    "extension": ".md",
    "format_name": "myst",
    "format_version": 0.13,
    "jupytext_version": "1.15.1"
   }
  },
  "kernelspec": {
   "display_name": "2023-sinica-intern",
   "language": "python",
   "name": "python3"
  },
  "language_info": {
   "codemirror_mode": {
    "name": "ipython",
    "version": 3
   },
   "file_extension": ".py",
   "mimetype": "text/x-python",
   "name": "python",
   "nbconvert_exporter": "python",
   "pygments_lexer": "ipython3",
   "version": "3.8.17"
  },
  "source_map": [
   12,
   32,
   39,
   43,
   79,
   83,
   85,
   89,
   94,
   106,
   110,
   115,
   121,
   125,
   130,
   135,
   149,
   154,
   158,
   178,
   182,
   186
  ]
 },
 "nbformat": 4,
 "nbformat_minor": 5
}