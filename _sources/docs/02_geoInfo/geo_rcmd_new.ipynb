{
 "cells": [
  {
   "cell_type": "markdown",
   "id": "6ac8a62c",
   "metadata": {},
   "source": [
    "# Intro to GeoInfo Generator"
   ]
  },
  {
   "cell_type": "markdown",
   "id": "99d4c47a",
   "metadata": {},
   "source": [
    "To automatically recommend locations along with their geographic information to users, we need to accomplish two key objectives.\n",
    "\n",
    "To begin with, we will tokenize the input string to identify potential keywords for the given input. To achieve this, we will utilize a Natural Language Processing (NLP) tool developed by the ckiplab at Academic Sinica, called `ckiplab/bert-base-chinese-ner`. With the assistance of this tool, we can perform Named Entity Recognition (NER) on the input sentence, thereby extracting keywords that could potentially match Wikidata keywords.\n",
    "\n",
    "Subsequently, once we have compiled a list of potential words, our next step involves verifying whether these words correspond to actual locations across the globe. For this purpose, we will make use of the Nominatim API to retrieve search results for the list of potential keywords.\n",
    "\n",
    "Upon successfully completing these two steps, we will have a comprehensive compilation of locations and their associated geographic information. To provide users with an interactive preview of OpenStreetMap (OSM), we have implemented [folium](http://python-visualization.github.io/folium/index.html). This enables users to select a location from the aforementioned list, input its geographic details, and visualize it on the map.\n",
    "\n",
    ":::{tip}\n",
    "You can choose a particular dataset by its index and explore the geographic information recommendations provided. To proceed, follow these steps:\n",
    "1. Click on the \"rocket icon\" located in the top-right corner.\n",
    "2. Select the option labeled `Live Code` from the menu.\n",
    "3. Once the environment is launched, you'll be able to manually execute **each** code cell.\n",
    "\n",
    "For any hidden code cells, simply click on `Show code cell source` and subsequently click `run` within each respective cell section.\n",
    ":::"
   ]
  },
  {
   "cell_type": "markdown",
   "id": "96403eb8",
   "metadata": {},
   "source": [
    "## Load Data\n",
    "Before we start trying this feature, we'll load the input data from Depositar.\n",
    "\n",
    "Previously, we downloaded metadata of datasets from Depositar through its API, randomly selected 10 datasets, and stored them in a file named `example_depositar_data.json` in the `assets/` directory. Since we'll only use this as an example input, there's no need to update this file, and the code for calling the API is not included in this notebook."
   ]
  },
  {
   "cell_type": "markdown",
   "id": "906c58ac",
   "metadata": {},
   "source": [
    "### Obtain metadata from datasets"
   ]
  },
  {
   "cell_type": "code",
   "execution_count": 1,
   "id": "c2a456a4",
   "metadata": {
    "tags": [
     "hide-input",
     "hide-output"
    ]
   },
   "outputs": [],
   "source": [
    "import json\n",
    "import pandas as pd\n",
    "import warnings\n",
    "\n",
    "# function definition\n",
    "def get_metadata(data_path, data_index):\n",
    "    with warnings.catch_warnings():\n",
    "        warnings.simplefilter(action='ignore', category=FutureWarning)\n",
    "        data = pd.read_json(data_path)\n",
    "\n",
    "        title = data.loc[data_index, 'title']\n",
    "        notes = data.loc[data_index, 'notes']\n",
    "\n",
    "        resources_names = []\n",
    "        resources_desps = []\n",
    "        for item in data.loc[data_index, 'resources']:\n",
    "            if 'name' in item:\n",
    "                resources_names.append(item['name'])\n",
    "                resources_desps.append(item['description'])\n",
    "\n",
    "        organization_title = data.loc[data_index, 'organization']['title']\n",
    "        organization_desp = data.loc[data_index, 'organization']['description']\n",
    "\n",
    "        df = pd.DataFrame({\n",
    "            'Title': [title],\n",
    "            'Notes': [notes],\n",
    "            'Resource Names': [resources_names],\n",
    "            'Resource Descriptions': [resources_desps],\n",
    "            'Organization Title': [organization_title],\n",
    "            'Organization Description': [organization_desp]\n",
    "        })\n",
    "\n",
    "        return df"
   ]
  },
  {
   "cell_type": "markdown",
   "id": "283fa243",
   "metadata": {},
   "source": [
    "We can chose one datasets by its index:"
   ]
  },
  {
   "cell_type": "code",
   "execution_count": 2,
   "id": "0c7d8b37",
   "metadata": {},
   "outputs": [],
   "source": [
    "dataset_idx = 6"
   ]
  },
  {
   "cell_type": "markdown",
   "id": "4be9da4a",
   "metadata": {},
   "source": [
    "✨ You can change the index to see the result of different dataset. (from 0 to 99)"
   ]
  },
  {
   "cell_type": "markdown",
   "id": "3f7e58f8",
   "metadata": {},
   "source": [
    "### Show dataset content\n",
    "Below displays the information of our selected dataset:"
   ]
  },
  {
   "cell_type": "code",
   "execution_count": 3,
   "id": "bcf1b742",
   "metadata": {
    "tags": [
     "hide-input"
    ]
   },
   "outputs": [
    {
     "name": "stdout",
     "output_type": "stream",
     "text": [
      "Title : 林邊排水水質自然淨化工程-林邊排水水質自然淨化處理場域規劃設計\n",
      "Notes : \n",
      "Resource Names : ['']\n",
      "Resource Descriptions : ['']\n",
      "Organization Title : 「全國水環境改善計畫」108-109年度屏東縣政府水環境改善輔導顧問團\n",
      "Organization Description : \n"
     ]
    }
   ],
   "source": [
    "if(dataset_idx < 100 and dataset_idx > 1):\n",
    "    data_path = 'https://mere-cat.github.io/Metadata-Generator-for-Depositar/assets/example_depositar_data.json'\n",
    "    df = get_metadata(data_path, dataset_idx)\n",
    "    input_list = []\n",
    "    for entity in df:\n",
    "        print(entity, ':', df[entity][0])\n",
    "        input_list.append(df[entity][0])\n",
    "else:\n",
    "    print('input number in the interval from 0 to 99')"
   ]
  },
  {
   "cell_type": "markdown",
   "id": "66ba727a",
   "metadata": {},
   "source": [
    "## Step 1: NER task\n",
    "\n",
    "### Import Models\n",
    "Here we import the transformer models, and do the NER to our input data."
   ]
  },
  {
   "cell_type": "code",
   "execution_count": 4,
   "id": "14a0dd08",
   "metadata": {
    "tags": [
     "hide-input",
     "remove-output"
    ]
   },
   "outputs": [
    {
     "name": "stderr",
     "output_type": "stream",
     "text": [
      "/opt/hostedtoolcache/Python/3.8.17/x64/lib/python3.8/site-packages/tqdm/auto.py:21: TqdmWarning: IProgress not found. Please update jupyter and ipywidgets. See https://ipywidgets.readthedocs.io/en/stable/user_install.html\n",
      "  from .autonotebook import tqdm as notebook_tqdm\n"
     ]
    }
   ],
   "source": [
    "# NLP task model\n",
    "from ckip_transformers.nlp import CkipNerChunker\n",
    "ner_driver = CkipNerChunker(model=\"bert-base\")"
   ]
  },
  {
   "cell_type": "markdown",
   "id": "7f2b9727",
   "metadata": {},
   "source": [
    "### NER task"
   ]
  },
  {
   "cell_type": "code",
   "execution_count": 5,
   "id": "0ffb4688",
   "metadata": {
    "tags": [
     "hide-input",
     "remove-output"
    ]
   },
   "outputs": [
    {
     "name": "stderr",
     "output_type": "stream",
     "text": [
      "\r",
      "Tokenization:   0%|          | 0/6 [00:00<?, ?it/s]"
     ]
    },
    {
     "name": "stderr",
     "output_type": "stream",
     "text": [
      "\r",
      "Tokenization: 100%|██████████| 6/6 [00:00<00:00, 26406.95it/s]"
     ]
    },
    {
     "name": "stderr",
     "output_type": "stream",
     "text": [
      "\n"
     ]
    },
    {
     "name": "stderr",
     "output_type": "stream",
     "text": [
      "\r",
      "Inference:   0%|          | 0/1 [00:00<?, ?it/s]"
     ]
    },
    {
     "name": "stderr",
     "output_type": "stream",
     "text": [
      "\r",
      "Inference: 100%|██████████| 1/1 [00:00<00:00, 10.37it/s]"
     ]
    },
    {
     "name": "stderr",
     "output_type": "stream",
     "text": [
      "\n"
     ]
    }
   ],
   "source": [
    "# NER task\n",
    "ner = ner_driver(input_list)"
   ]
  },
  {
   "cell_type": "markdown",
   "id": "ff9d8a03",
   "metadata": {},
   "source": [
    "### Output\n",
    "Below is the output list of the NER result:"
   ]
  },
  {
   "cell_type": "code",
   "execution_count": 6,
   "id": "f44f14b8",
   "metadata": {
    "tags": [
     "hide-input"
    ]
   },
   "outputs": [
    {
     "name": "stdout",
     "output_type": "stream",
     "text": [
      "林邊 : GPE\n",
      "屏東縣政府 : ORG\n"
     ]
    }
   ],
   "source": [
    "# Show results\n",
    "avoid_class = ['QUANTITY', 'CARDINAL', 'DATE', 'ORDINAL']\n",
    "keyword_map = {}\n",
    "for sentence_ner in ner:\n",
    "   for entity in sentence_ner:\n",
    "      if(entity[1] in avoid_class):\n",
    "        continue\n",
    "      keyword_map[entity[0]] = entity[1]\n",
    "\n",
    "for key, value in keyword_map.items():\n",
    "  print(key, ':', value)"
   ]
  },
  {
   "cell_type": "markdown",
   "id": "2da3c14b",
   "metadata": {},
   "source": [
    "## Step 2: Searching through OSM Nominatim API\n",
    "After searching each potential word obtained in previous step, now we are going to check if each word is a wikidata keyword.\n",
    "\n",
    "### Requeest Nominatim API"
   ]
  },
  {
   "cell_type": "code",
   "execution_count": 7,
   "id": "e8dc665f",
   "metadata": {
    "tags": [
     "hide-input"
    ]
   },
   "outputs": [],
   "source": [
    "import requests\n",
    "\n",
    "def search_osm_place(query):\n",
    "    base_url = \"https://nominatim.openstreetmap.org/search\"\n",
    "    params = {\n",
    "        \"q\": query,\n",
    "        \"format\": \"json\",\n",
    "        \"polygon_geojson\": \"1\",  # Request GeoJSON polygons\n",
    "        \"limit\": 7\n",
    "    }\n",
    "\n",
    "    response = requests.get(base_url, params=params)\n",
    "\n",
    "    if response.status_code == 200:\n",
    "        return response.json()\n",
    "    else:\n",
    "        return None"
   ]
  },
  {
   "cell_type": "markdown",
   "id": "cbc30199",
   "metadata": {},
   "source": [
    "### OSM Search Result\n",
    "Now, we'll obtain a list of possible location for each named entity."
   ]
  },
  {
   "cell_type": "code",
   "execution_count": 8,
   "id": "d53d65b2",
   "metadata": {},
   "outputs": [
    {
     "name": "stdout",
     "output_type": "stream",
     "text": [
      "OSM result for 林邊 is:\n",
      "📍 林边, 礼县, 陇南市, 甘肃省, 中国\n",
      "{\"type\": \"Point\", \"coordinates\": [105.247, 34.1612]}\n",
      "📍 林邊, 黃埔村, 烈嶼鄉, 金門縣, 894, 臺灣\n",
      "{\"type\": \"Point\", \"coordinates\": [118.2514395, 24.4465422]}\n",
      "📍 林边, 华坪县, 丽江市, 云南省, 中国\n",
      "{\"type\": \"Point\", \"coordinates\": [101.2901069, 26.7634965]}\n",
      "-------------------------------------------\n"
     ]
    },
    {
     "name": "stdout",
     "output_type": "stream",
     "text": [
      "OSM result for 屏東縣政府 is:\n",
      "📍 屏東縣政府消防局 第一大隊長治分隊, 572, 中興路, 德成村, 長治鄉, 屏東縣, 908, 臺灣\n",
      "{\"type\": \"Polygon\", \"coordinates\": [[[120.5424344, 22.6931001], [120.5425768, 22.6926576], [120.5427666, 22.6927096], [120.5426244, 22.6931521], [120.5424344, 22.6931001]]]}\n",
      "📍 三地門分駐所, 101, 中正路二段, 三地門 Timur, 三地村, 三地門鄉, 屏東縣, 901, 臺灣\n",
      "{\"type\": \"Point\", \"coordinates\": [120.653923, 22.7164095]}\n",
      "📍 龍泉派出所, 76, 原勝路, 龍泉村, 內埔鄉, 屏東縣, 91244, 臺灣\n",
      "{\"type\": \"Point\", \"coordinates\": [120.600196, 22.669117]}\n",
      "📍 屏東縣政府文化處, 瑞華街, 瑞光里, 屏東市, 屏東縣, 900, 臺灣\n",
      "{\"type\": \"Point\", \"coordinates\": [120.5060132, 22.6638532]}\n",
      "📍 屏東縣政府消防局特種災害防救訓練基地, 中興路, 德成村, 長治鄉, 屏東縣, 908, 臺灣\n",
      "{\"type\": \"Polygon\", \"coordinates\": [[[120.541641, 22.6923903], [120.5418882, 22.6915993], [120.5421169, 22.6916561], [120.5423067, 22.6910067], [120.5441017, 22.6903721], [120.5445221, 22.6904809], [120.5444873, 22.6905955], [120.5448628, 22.6906878], [120.5446494, 22.6914052], [120.5442977, 22.6913161], [120.5440393, 22.6921128], [120.5436181, 22.6919996], [120.5433739, 22.6927832], [120.5430217, 22.6926809], [120.5428424, 22.6932162], [120.5426747, 22.693169], [120.5428287, 22.692714], [120.541641, 22.6923903]]]}\n",
      "📍 泰武派出所, 佳平巷, 佳平村, 泰武鄉, 屏東縣, 923, 臺灣\n",
      "{\"type\": \"Point\", \"coordinates\": [120.628896, 22.5916784]}\n",
      "📍 三地門消防分隊, 中正路二段, 三地門 Timur, 三地村, 三地門鄉, 屏東縣, 901, 臺灣\n",
      "{\"type\": \"Polygon\", \"coordinates\": [[[120.6536094, 22.7168276], [120.6537405, 22.7167141], [120.6536988, 22.7166731], [120.6537876, 22.7165963], [120.6539313, 22.7167376], [120.6537114, 22.7169279], [120.6536094, 22.7168276]]]}\n",
      "-------------------------------------------\n"
     ]
    }
   ],
   "source": [
    "for item in keyword_map:\n",
    "    result = search_osm_place(item)\n",
    "    if result:\n",
    "        print(f\"OSM result for {item} is:\")\n",
    "        for place in result:\n",
    "            print(\"📍\", place[\"display_name\"])\n",
    "            print(str(place[\"geojson\"]).replace(\"'\", \"\\\"\"))\n",
    "        print('-------------------------------------------')\n",
    "    else:\n",
    "            print(\"No geoInfo provided.\")"
   ]
  },
  {
   "cell_type": "markdown",
   "id": "b65adc26",
   "metadata": {},
   "source": [
    "### Input geoJSON\n",
    "Select one of the location above, copy the geoJSON and paste to the below cell:"
   ]
  },
  {
   "cell_type": "code",
   "execution_count": 9,
   "id": "d7eadd16",
   "metadata": {},
   "outputs": [],
   "source": [
    "geoInfo = ''"
   ]
  },
  {
   "cell_type": "markdown",
   "id": "49c93af7",
   "metadata": {},
   "source": [
    "### Preview the Location in OSM\n",
    "Now, we can see the location you previously chosen displayed below:"
   ]
  },
  {
   "cell_type": "code",
   "execution_count": 10,
   "id": "7161030f",
   "metadata": {
    "tags": [
     "hide-input"
    ]
   },
   "outputs": [
    {
     "name": "stdout",
     "output_type": "stream",
     "text": [
      "please paste the geoJSON in the 'geoInfo' string.\n"
     ]
    }
   ],
   "source": [
    "import folium\n",
    "\n",
    "center_coords = [25.041415686746607, 121.61472689731077]  # Sinica\n",
    "m = folium.Map(location=center_coords, zoom_start=12)\n",
    "\n",
    "if(len(geoInfo) == 0):\n",
    "    print(\"please paste the geoJSON in the 'geoInfo' string.\")\n",
    "else:\n",
    "    geojson = eval(geoInfo)\n",
    "    folium.GeoJson(geojson).add_to(m)\n",
    "    m.fit_bounds(m.get_bounds())\n",
    "    display(m)"
   ]
  }
 ],
 "metadata": {
  "jupytext": {
   "text_representation": {
    "extension": ".md",
    "format_name": "myst",
    "format_version": 0.13,
    "jupytext_version": "1.15.1"
   }
  },
  "kernelspec": {
   "display_name": "2023-sinica-intern",
   "language": "python",
   "name": "python3"
  },
  "language_info": {
   "codemirror_mode": {
    "name": "ipython",
    "version": 3
   },
   "file_extension": ".py",
   "mimetype": "text/x-python",
   "name": "python",
   "nbconvert_exporter": "python",
   "pygments_lexer": "ipython3",
   "version": "3.8.17"
  },
  "source_map": [
   12,
   16,
   35,
   42,
   46,
   82,
   86,
   88,
   92,
   97,
   109,
   116,
   122,
   126,
   131,
   136,
   150,
   157,
   177,
   182,
   193,
   198,
   200,
   205
  ]
 },
 "nbformat": 4,
 "nbformat_minor": 5
}