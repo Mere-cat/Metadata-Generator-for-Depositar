{
 "cells": [
  {
   "cell_type": "markdown",
   "id": "b93fc72f",
   "metadata": {},
   "source": [
    "# Project Result\n",
    "Now, let's integrate the two aspects of our project. This integration will yield an interactive interface that enables users to input their dataset information. Consequently, they will receive the suggested Wikidata keywords along with the most fitting location that accurately characterizes the dataset.\n",
    "\n",
    ":::{tip}\n",
    "To obtain wikidata keyword and the geographic information for your dataset, follow these steps:\n",
    "1. Click on the \"rocket icon\" located in the top-right corner.\n",
    "2. Select the option labeled `Live Code` from the menu.\n",
    "3. Once the environment is launched, you'll be able to manually execute **each** code cell.\n",
    "\n",
    "For any hidden code cells, simply click on `Show code cell source` and subsequently click `run` within each respective cell section.\n",
    ":::\n",
    "\n",
    "Here're the information you may input:\n",
    "* `title`: the title of your dataset\n",
    "* `description`: description of your dataset\n",
    "* `resource_names`: file names in your dataset\n",
    "* `resource_descriptions`: the description of files in your dataset\n",
    "* `organization_title`: the tilte of the affiliatedorganization \n",
    "* `organization_description`: the description of the affiliatedorganization \n",
    "\n",
    "```{warning} Notice\n",
    "At least one of the fields should be completed. Leaving all of them empty is not permissible.\n",
    "```"
   ]
  },
  {
   "cell_type": "markdown",
   "id": "ef497afc",
   "metadata": {},
   "source": [
    "## Function Definations\n",
    "Just expend it and click `run`"
   ]
  },
  {
   "cell_type": "code",
   "execution_count": 1,
   "id": "42fb31f5",
   "metadata": {
    "tags": [
     "remove-output",
     "hide-input"
    ]
   },
   "outputs": [
    {
     "name": "stderr",
     "output_type": "stream",
     "text": [
      "/opt/hostedtoolcache/Python/3.8.18/x64/lib/python3.8/site-packages/tqdm/auto.py:21: TqdmWarning: IProgress not found. Please update jupyter and ipywidgets. See https://ipywidgets.readthedocs.io/en/stable/user_install.html\n",
      "  from .autonotebook import tqdm as notebook_tqdm\n"
     ]
    }
   ],
   "source": [
    "# Packages Import ============================================================\n",
    "import requests\n",
    "\n",
    "# NLP task model\n",
    "from ckip_transformers.nlp import CkipNerChunker\n",
    "ner_driver = CkipNerChunker(model=\"bert-base\")\n",
    "\n",
    "# Function Definstion =========================================================\n",
    "def wiki_search(search_term):\n",
    "    url = f\"https://www.wikidata.org/w/api.php?action=wbsearchentities&format=json&search={search_term}&language=zh\"\n",
    "\n",
    "    response = requests.get(url)\n",
    "    data = response.json()\n",
    "\n",
    "    # organize the response\n",
    "    if \"search\" in data:\n",
    "        for result in data[\"search\"]:\n",
    "            qid = result[\"id\"]\n",
    "            label = result[\"label\"]\n",
    "            description = result.get(\"description\", \"No description available\")\n",
    "            print(f\"QID: {qid}, Label: {label}, Description: {description}\")\n",
    "    else:\n",
    "        print(\"No results found.\")\n",
    "        \n",
    "def search_osm_place(query):\n",
    "    base_url = \"https://nominatim.openstreetmap.org/search\"\n",
    "    params = {\n",
    "        \"q\": query,\n",
    "        \"format\": \"json\",\n",
    "        \"polygon_geojson\": \"1\",  # Request GeoJSON polygons\n",
    "        \"limit\": 7\n",
    "    }\n",
    "\n",
    "    response = requests.get(base_url, params=params)\n",
    "\n",
    "    if response.status_code == 200:\n",
    "        return response.json()\n",
    "    else:\n",
    "        return None\n",
    "\n",
    "def make_keyword_map(input_list):\n",
    "    # NER task\n",
    "    ner = ner_driver(input_list)\n",
    "\n",
    "    # Build keyword_map to store potential words\n",
    "    avoid_class = ['QUANTITY', 'CARDINAL', 'DATE', 'ORDINAL']\n",
    "    keyword_map = {}\n",
    "    for sentence_ner in ner:\n",
    "        for entity in sentence_ner:\n",
    "            if(entity[1] in avoid_class):\n",
    "                continue\n",
    "        keyword_map[entity[0]] = entity[1]\n",
    "    \n",
    "    return keyword_map\n",
    "\n",
    "def gen_keyword(title, description, resource_names, resource_descriptions, organization_title, organization_description):\n",
    "    input_list = [title, description, resource_names, resource_descriptions, organization_title, organization_description]\n",
    "\n",
    "    if all(not item for item in input_list):\n",
    "        return -1\n",
    "    else:\n",
    "       keyword_map = make_keyword_map(input_list)\n",
    "       return keyword_map\n",
    "    \n",
    "def wiki_output(result):\n",
    "    if(result == -1):\n",
    "        print(\"At least one of the fields should be completed. Leaving all of them empty is not permissible.\")\n",
    "        return\n",
    "    else:\n",
    "        for item in result:\n",
    "            print(item)\n",
    "            wiki_search(item)\n",
    "            print('-------------------------------------------')\n",
    "\n",
    "def geoInfo_output(result):\n",
    "    if(result == -1):\n",
    "        print(\"At least one of the fields should be completed. Leaving all of them empty is not permissible.\")\n",
    "        return\n",
    "    else:\n",
    "        for item in result:\n",
    "            respond = search_osm_place(item)\n",
    "            if respond:\n",
    "                print(f\"OSM result for {item} is:\")\n",
    "                for place in respond:\n",
    "                    print(\"📍\", place[\"display_name\"])\n",
    "                    print(str(place[\"geojson\"]).replace(\"'\", \"\\\"\"))\n",
    "                print('-------------------------------------------')\n",
    "            else:\n",
    "                    print(\"No geoInfo provided.\")"
   ]
  },
  {
   "cell_type": "markdown",
   "id": "227e8615",
   "metadata": {},
   "source": [
    "### Input\n",
    "✨ You can type information of your own dataset here:"
   ]
  },
  {
   "cell_type": "code",
   "execution_count": 2,
   "id": "aa7db4a1",
   "metadata": {},
   "outputs": [
    {
     "name": "stderr",
     "output_type": "stream",
     "text": [
      "\r",
      "Tokenization:   0%|          | 0/6 [00:00<?, ?it/s]"
     ]
    },
    {
     "name": "stderr",
     "output_type": "stream",
     "text": [
      "\r",
      "Tokenization: 100%|██████████| 6/6 [00:00<00:00, 51569.31it/s]"
     ]
    },
    {
     "name": "stderr",
     "output_type": "stream",
     "text": [
      "\n"
     ]
    },
    {
     "name": "stderr",
     "output_type": "stream",
     "text": [
      "\r",
      "Inference:   0%|          | 0/1 [00:00<?, ?it/s]"
     ]
    },
    {
     "name": "stderr",
     "output_type": "stream",
     "text": [
      "\r",
      "Inference: 100%|██████████| 1/1 [00:00<00:00,  4.42it/s]"
     ]
    },
    {
     "name": "stderr",
     "output_type": "stream",
     "text": [
      "\r",
      "Inference: 100%|██████████| 1/1 [00:00<00:00,  4.36it/s]"
     ]
    },
    {
     "name": "stderr",
     "output_type": "stream",
     "text": [
      "\n"
     ]
    }
   ],
   "source": [
    "title = '中研院'\n",
    "description = ''\n",
    "resource_names = []\n",
    "resource_descriptions = []\n",
    "organization_title = \"\"\n",
    "organization_description = \"\"\n",
    "\n",
    "result = gen_keyword(title, description, resource_names, resource_descriptions, organization_title, organization_description)"
   ]
  },
  {
   "cell_type": "markdown",
   "id": "8c1b097b",
   "metadata": {},
   "source": [
    "## Result"
   ]
  },
  {
   "cell_type": "markdown",
   "id": "4e3b7712",
   "metadata": {},
   "source": [
    "### Wikidata Keyword Recommendation:"
   ]
  },
  {
   "cell_type": "code",
   "execution_count": 3,
   "id": "02dfd75e",
   "metadata": {},
   "outputs": [
    {
     "name": "stdout",
     "output_type": "stream",
     "text": [
      "中研院\n"
     ]
    },
    {
     "name": "stdout",
     "output_type": "stream",
     "text": [
      "QID: Q337266, Label: Academia Sinica, Description: national academy of Taiwan\n",
      "QID: Q20872478, Label: Biodiversity Research Center, Academia Sinica, Description: organization\n",
      "QID: Q20872470, Label: Institute of Information Science, Academia Sinica, Description: organization\n",
      "QID: Q10875102, Label: Member of Academia Sinica, Description: academic award in Taiwan\n",
      "QID: Q10899637, Label: Hung En Liu, Description: No description available\n",
      "QID: Q93696545, Label: Institute of Astronomy & Astrophysics Llbrary, Academic Sinica, Description: No description available\n",
      "QID: Q120579929, Label: Reasons for the Failure of the Program for the Foundation of a National Metrology System of Time in the Academia Sinica in 1930s, Description: No description available\n",
      "-------------------------------------------\n"
     ]
    }
   ],
   "source": [
    "wiki_output(result)"
   ]
  },
  {
   "cell_type": "markdown",
   "id": "b03131ba",
   "metadata": {},
   "source": [
    "### Geographic Information Recommendation:"
   ]
  },
  {
   "cell_type": "code",
   "execution_count": 4,
   "id": "9886b03b",
   "metadata": {},
   "outputs": [
    {
     "name": "stdout",
     "output_type": "stream",
     "text": [
      "OSM result for 中研院 is:\n",
      "📍 中央研究院, 128, 研究院路二段, 中研里, 南港區, 舊莊, 臺北市, 11529, 臺灣\n",
      "{\"type\": \"Polygon\", \"coordinates\": [[[121.6098139, 25.0423357], [121.6099928, 25.0422723], [121.6101471, 25.0424388], [121.6102986, 25.0423416], [121.6114298, 25.042353], [121.611598, 25.0422362], [121.6111609, 25.0417884], [121.6110376, 25.0415609], [121.6108531, 25.0413988], [121.6108391, 25.0412591], [121.6108483, 25.0411745], [121.6108213, 25.0409236], [121.6109215, 25.0406827], [121.6109234, 25.0405608], [121.6111356, 25.0395975], [121.6112723, 25.0394586], [121.6119245, 25.0387853], [121.612849, 25.0395204], [121.6132347, 25.0391222], [121.6145719, 25.0394481], [121.6153276, 25.0386336], [121.6154951, 25.0386861], [121.6153522, 25.0390601], [121.6172567, 25.0388414], [121.6174233, 25.0400362], [121.6174569, 25.0403346], [121.6174815, 25.0406155], [121.6174912, 25.0407662], [121.6167943, 25.0416525], [121.6166898, 25.0419514], [121.6166698, 25.0420211], [121.6166611, 25.0420439], [121.616643, 25.0421047], [121.6166444, 25.0421754], [121.6167759, 25.0423978], [121.6167836, 25.042444], [121.6160597, 25.0438771], [121.6159596, 25.0440789], [121.6153441, 25.043857], [121.6149866, 25.0437405], [121.6146199, 25.0446663], [121.6145301, 25.0446373], [121.6141955, 25.0454896], [121.6137999, 25.0453621], [121.6124401, 25.0453351], [121.6124939, 25.0430158], [121.6123115, 25.0430126], [121.6122654, 25.043012], [121.6122424, 25.0429623], [121.6116596, 25.0429193], [121.6114791, 25.0429102], [121.6100696, 25.0428747], [121.6100116, 25.0425081], [121.6098547, 25.0424023], [121.6098139, 25.0423357]]]}\n",
      "📍 中研院, 128, 研究院路二段, 中研里, 南港區, 舊莊, 臺北市, 11529, 臺灣\n",
      "{\"type\": \"Point\", \"coordinates\": [121.6165385, 25.0428838]}\n",
      "📍 中研院, 研究院路二段, 中研里, 南港區, 三重埔, 臺北市, 11564, 臺灣\n",
      "{\"type\": \"Point\", \"coordinates\": [121.6165938, 25.043366]}\n",
      "📍 中研院, 工农大路, 红旗街, 红旗街道, 朝阳区, 长春市, 吉林省, 130000, 中国\n",
      "{\"type\": \"Polygon\", \"coordinates\": [[[125.2966103, 43.8635572], [125.2975544, 43.8628417], [125.2983966, 43.8634218], [125.297431, 43.8641219], [125.2966103, 43.8635572]]]}\n",
      "-------------------------------------------\n"
     ]
    }
   ],
   "source": [
    "geoInfo_output(result)"
   ]
  },
  {
   "cell_type": "markdown",
   "id": "edaefd89",
   "metadata": {},
   "source": [
    "#### Preview the Location in OSM"
   ]
  },
  {
   "cell_type": "markdown",
   "id": "86023e25",
   "metadata": {},
   "source": [
    "Select one of the location above, copy the geoJSON and paste to the below cell:"
   ]
  },
  {
   "cell_type": "code",
   "execution_count": 5,
   "id": "07cdf1a9",
   "metadata": {},
   "outputs": [],
   "source": [
    "geoInfo = ''"
   ]
  },
  {
   "cell_type": "code",
   "execution_count": 6,
   "id": "ee65825e",
   "metadata": {
    "tags": [
     "hide-input"
    ]
   },
   "outputs": [
    {
     "name": "stdout",
     "output_type": "stream",
     "text": [
      "please paste the geoJSON in the 'geoInfo' string.\n"
     ]
    }
   ],
   "source": [
    "import folium\n",
    "\n",
    "center_coords = [25.041415686746607, 121.61472689731077]  # Sinica\n",
    "m = folium.Map(location=center_coords, zoom_start=12)\n",
    "\n",
    "if(len(geoInfo) == 0):\n",
    "    print(\"please paste the geoJSON in the 'geoInfo' string.\")\n",
    "else:\n",
    "    geojson = eval(geoInfo)\n",
    "    folium.GeoJson(geojson).add_to(m)\n",
    "    m.fit_bounds(m.get_bounds())\n",
    "    display(m)"
   ]
  }
 ],
 "metadata": {
  "jupytext": {
   "text_representation": {
    "extension": ".md",
    "format_name": "myst",
    "format_version": 0.13,
    "jupytext_version": "1.15.2"
   }
  },
  "kernelspec": {
   "display_name": "2023-sinica-intern",
   "language": "python",
   "name": "python3"
  },
  "language_info": {
   "codemirror_mode": {
    "name": "ipython",
    "version": 3
   },
   "file_extension": ".py",
   "mimetype": "text/x-python",
   "name": "python",
   "nbconvert_exporter": "python",
   "pygments_lexer": "ipython3",
   "version": "3.8.18"
  },
  "source_map": [
   12,
   38,
   43,
   135,
   140,
   149,
   153,
   157,
   159,
   163,
   165,
   169,
   173,
   177
  ]
 },
 "nbformat": 4,
 "nbformat_minor": 5
}